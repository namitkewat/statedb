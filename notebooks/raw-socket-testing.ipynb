{
 "cells": [
  {
   "cell_type": "markdown",
   "metadata": {},
   "source": [
    "# Testing a Custom Redis Server with Raw Sockets\n",
    "\n",
    "This notebook provides an interactive way to test a custom, Redis-compatible server by sending **raw RESP (REdis Serialization Protocol) messages** over a TCP socket. This is similar to using a tool like `netcat`.\n",
    "\n",
    "This method is excellent for low-level testing of your server's protocol parser.\n",
    "\n",
    "### Instructions:\n",
    "1. Make sure your custom Zig-based Redis server is running.\n",
    "2. Run the cells sequentially by pressing `Shift + Enter`.\n",
    "3. Observe the output of each cell. The `repr()` output shows the exact bytes received from the server, including `\\r\\n`."
   ]
  },
  {
   "cell_type": "code",
   "execution_count": 1,
   "metadata": {},
   "outputs": [],
   "source": [
    "# Step 1: Import necessary libraries\n",
    "import socket\n",
    "from typing import List, Union"
   ]
  },
  {
   "cell_type": "code",
   "execution_count": 2,
   "metadata": {},
   "outputs": [],
   "source": [
    "# Step 2: Configure the connection to your server\n",
    "REDIS_HOST = \"localhost\"\n",
    "REDIS_PORT = 8080\n",
    "CONN_TIMEOUT = 2.0"
   ]
  },
  {
   "cell_type": "code",
   "execution_count": 3,
   "metadata": {},
   "outputs": [],
   "source": [
    "# Step 3: Define the helper function to send RESP commands\n",
    "\n",
    "def send_resp_command(command: List[Union[str, int]]):\n",
    "    \"\"\"\n",
    "    Constructs a RESP message, sends it via a raw socket, \n",
    "    and prints the command and response.\n",
    "    \"\"\"\n",
    "    try:\n",
    "        with socket.socket(socket.AF_INET, socket.SOCK_STREAM) as s:\n",
    "            s.settimeout(CONN_TIMEOUT)\n",
    "            s.connect((REDIS_HOST, REDIS_PORT))\n",
    "\n",
    "            # Build the RESP message as an array of bulk strings\n",
    "            resp_parts = [f\"*{len(command)}\"]\n",
    "            for part in command:\n",
    "                part_str = str(part)\n",
    "                resp_parts.append(f\"${len(part_str)}\")\n",
    "                resp_parts.append(part_str)\n",
    "\n",
    "            resp_message = \"\\r\\n\".join(resp_parts) + \"\\r\\n\"\n",
    "            encoded_message = resp_message.encode('utf-8')\n",
    "            \n",
    "            print(f\"--- Sending Command: {' '.join(map(str, command))} ---\")\n",
    "            print(f\"Raw RESP Sent: {repr(encoded_message)}\")\n",
    "\n",
    "            s.sendall(encoded_message)\n",
    "            response_bytes = s.recv(4096)\n",
    "            \n",
    "            print(f\"Raw RESP Received: {repr(response_bytes)}\")\n",
    "            print(f\"Decoded Response: '{response_bytes.decode('utf-8').strip()}'\\n\")\n",
    "            \n",
    "    except (socket.timeout, ConnectionRefusedError) as e:\n",
    "        print(f\"ERROR: Connection to {REDIS_HOST}:{REDIS_PORT} failed. Is the server running?\")\n",
    "        print(f\"Details: {e}\\n\")"
   ]
  },
  {
   "cell_type": "markdown",
   "metadata": {},
   "source": [
    "--- \n",
    "## Command Tests\n",
    "Now we will run tests for each command."
   ]
  },
  {
   "cell_type": "code",
   "execution_count": 4,
   "metadata": {},
   "outputs": [
    {
     "name": "stdout",
     "output_type": "stream",
     "text": [
      "--- Sending Command: FLUSHDB ---\n",
      "Raw RESP Sent: b'*1\\r\\n$7\\r\\nFLUSHDB\\r\\n'\n",
      "Raw RESP Received: b'+OK\\r\\n'\n",
      "Decoded Response: '+OK'\n",
      "\n"
     ]
    }
   ],
   "source": [
    "# Before starting, let's clear the database to ensure a clean state.\n",
    "# Expected response is a Simple String: +OK\n",
    "send_resp_command([\"FLUSHDB\"])"
   ]
  },
  {
   "cell_type": "code",
   "execution_count": 5,
   "metadata": {},
   "outputs": [
    {
     "name": "stdout",
     "output_type": "stream",
     "text": [
      "--- Sending Command: PING ---\n",
      "Raw RESP Sent: b'*1\\r\\n$4\\r\\nPING\\r\\n'\n",
      "Raw RESP Received: b'$4\\r\\nPONG\\r\\n'\n",
      "Decoded Response: '$4\n",
      "PONG'\n",
      "\n"
     ]
    }
   ],
   "source": [
    "# Test: PING\n",
    "# Expected response is a Simple String: +PONG\n",
    "send_resp_command([\"PING\"])"
   ]
  },
  {
   "cell_type": "code",
   "execution_count": 6,
   "metadata": {},
   "outputs": [
    {
     "name": "stdout",
     "output_type": "stream",
     "text": [
      "--- Sending Command: ECHO Hello RESP ---\n",
      "Raw RESP Sent: b'*2\\r\\n$4\\r\\nECHO\\r\\n$10\\r\\nHello RESP\\r\\n'\n",
      "Raw RESP Received: b'$10\\r\\nHello RESP\\r\\n'\n",
      "Decoded Response: '$10\n",
      "Hello RESP'\n",
      "\n"
     ]
    }
   ],
   "source": [
    "# Test: ECHO\n",
    "# Expected response is a Bulk String: $11\\r\\nHello RESP\\r\\n\n",
    "send_resp_command([\"ECHO\", \"Hello RESP\"])"
   ]
  },
  {
   "cell_type": "code",
   "execution_count": 7,
   "metadata": {},
   "outputs": [
    {
     "name": "stdout",
     "output_type": "stream",
     "text": [
      "--- Sending Command: SET raw_key RawValue ---\n",
      "Raw RESP Sent: b'*3\\r\\n$3\\r\\nSET\\r\\n$7\\r\\nraw_key\\r\\n$8\\r\\nRawValue\\r\\n'\n",
      "Raw RESP Received: b'+OK\\r\\n'\n",
      "Decoded Response: '+OK'\n",
      "\n",
      "--- Sending Command: GET raw_key ---\n",
      "Raw RESP Sent: b'*2\\r\\n$3\\r\\nGET\\r\\n$7\\r\\nraw_key\\r\\n'\n",
      "Raw RESP Received: b'$8\\r\\nRawValue\\r\\n'\n",
      "Decoded Response: '$8\n",
      "RawValue'\n",
      "\n"
     ]
    }
   ],
   "source": [
    "# Test: SET and GET\n",
    "# SET should respond with a Simple String: +OK\n",
    "# GET should respond with a Bulk String: $8\\r\\nRawValue\\r\\n\n",
    "send_resp_command([\"SET\", \"raw_key\", \"RawValue\"])\n",
    "send_resp_command([\"GET\", \"raw_key\"])"
   ]
  },
  {
   "cell_type": "code",
   "execution_count": 8,
   "metadata": {},
   "outputs": [
    {
     "name": "stdout",
     "output_type": "stream",
     "text": [
      "--- Sending Command: GET no_such_key ---\n",
      "Raw RESP Sent: b'*2\\r\\n$3\\r\\nGET\\r\\n$11\\r\\nno_such_key\\r\\n'\n",
      "Raw RESP Received: b'$-1\\r\\n'\n",
      "Decoded Response: '$-1'\n",
      "\n"
     ]
    }
   ],
   "source": [
    "# Test: GET non-existent key\n",
    "# Expected response is a Null Bulk String: $-1\n",
    "send_resp_command([\"GET\", \"no_such_key\"])"
   ]
  },
  {
   "cell_type": "code",
   "execution_count": 9,
   "metadata": {},
   "outputs": [
    {
     "name": "stdout",
     "output_type": "stream",
     "text": [
      "--- Sending Command: SET another_key xyz ---\n",
      "Raw RESP Sent: b'*3\\r\\n$3\\r\\nSET\\r\\n$11\\r\\nanother_key\\r\\n$3\\r\\nxyz\\r\\n'\n",
      "Raw RESP Received: b'+OK\\r\\n'\n",
      "Decoded Response: '+OK'\n",
      "\n",
      "--- Sending Command: EXISTS another_key ---\n",
      "Raw RESP Sent: b'*2\\r\\n$6\\r\\nEXISTS\\r\\n$11\\r\\nanother_key\\r\\n'\n",
      "Raw RESP Received: b':1\\r\\n'\n",
      "Decoded Response: ':1'\n",
      "\n",
      "--- Sending Command: DEL another_key ---\n",
      "Raw RESP Sent: b'*2\\r\\n$3\\r\\nDEL\\r\\n$11\\r\\nanother_key\\r\\n'\n",
      "Raw RESP Received: b':1\\r\\n'\n",
      "Decoded Response: ':1'\n",
      "\n",
      "--- Sending Command: EXISTS another_key ---\n",
      "Raw RESP Sent: b'*2\\r\\n$6\\r\\nEXISTS\\r\\n$11\\r\\nanother_key\\r\\n'\n",
      "Raw RESP Received: b':0\\r\\n'\n",
      "Decoded Response: ':0'\n",
      "\n"
     ]
    }
   ],
   "source": [
    "# Test: EXISTS and DEL\n",
    "# Both commands respond with an Integer reply, e.g., :1 or :0\n",
    "send_resp_command([\"SET\", \"another_key\", \"xyz\"])\n",
    "send_resp_command([\"EXISTS\", \"another_key\"])\n",
    "send_resp_command([\"DEL\", \"another_key\"])\n",
    "send_resp_command([\"EXISTS\", \"another_key\"])"
   ]
  },
  {
   "cell_type": "code",
   "execution_count": 10,
   "metadata": {},
   "outputs": [
    {
     "name": "stdout",
     "output_type": "stream",
     "text": [
      "--- Sending Command: SET num_key 10 ---\n",
      "Raw RESP Sent: b'*3\\r\\n$3\\r\\nSET\\r\\n$7\\r\\nnum_key\\r\\n$2\\r\\n10\\r\\n'\n",
      "Raw RESP Received: b'+OK\\r\\n'\n",
      "Decoded Response: '+OK'\n",
      "\n",
      "--- Sending Command: INCR num_key ---\n",
      "Raw RESP Sent: b'*2\\r\\n$4\\r\\nINCR\\r\\n$7\\r\\nnum_key\\r\\n'\n",
      "Raw RESP Received: b':11\\r\\n'\n",
      "Decoded Response: ':11'\n",
      "\n",
      "--- Sending Command: DECR num_key ---\n",
      "Raw RESP Sent: b'*2\\r\\n$4\\r\\nDECR\\r\\n$7\\r\\nnum_key\\r\\n'\n",
      "Raw RESP Received: b':10\\r\\n'\n",
      "Decoded Response: ':10'\n",
      "\n",
      "--- Sending Command: INCRBY num_key 5 ---\n",
      "Raw RESP Sent: b'*3\\r\\n$6\\r\\nINCRBY\\r\\n$7\\r\\nnum_key\\r\\n$1\\r\\n5\\r\\n'\n",
      "Raw RESP Received: b':15\\r\\n'\n",
      "Decoded Response: ':15'\n",
      "\n",
      "--- Sending Command: DECRBY num_key 3 ---\n",
      "Raw RESP Sent: b'*3\\r\\n$6\\r\\nDECRBY\\r\\n$7\\r\\nnum_key\\r\\n$1\\r\\n3\\r\\n'\n",
      "Raw RESP Received: b':12\\r\\n'\n",
      "Decoded Response: ':12'\n",
      "\n"
     ]
    }
   ],
   "source": [
    "# Test: INCR, DECR, INCRBY, DECRBY\n",
    "# These commands respond with an Integer reply.\n",
    "send_resp_command([\"SET\", \"num_key\", 10])\n",
    "send_resp_command([\"INCR\", \"num_key\"])\n",
    "send_resp_command([\"DECR\", \"num_key\"])\n",
    "send_resp_command([\"INCRBY\", \"num_key\", 5])\n",
    "send_resp_command([\"DECRBY\", \"num_key\", 3])"
   ]
  },
  {
   "cell_type": "code",
   "execution_count": 11,
   "metadata": {},
   "outputs": [
    {
     "name": "stdout",
     "output_type": "stream",
     "text": [
      "--- Sending Command: HSET raw_hash name Bob ---\n",
      "Raw RESP Sent: b'*4\\r\\n$4\\r\\nHSET\\r\\n$8\\r\\nraw_hash\\r\\n$4\\r\\nname\\r\\n$3\\r\\nBob\\r\\n'\n",
      "Raw RESP Received: b':1\\r\\n'\n",
      "Decoded Response: ':1'\n",
      "\n",
      "--- Sending Command: HSET raw_hash email bob@example.com ---\n",
      "Raw RESP Sent: b'*4\\r\\n$4\\r\\nHSET\\r\\n$8\\r\\nraw_hash\\r\\n$5\\r\\nemail\\r\\n$15\\r\\nbob@example.com\\r\\n'\n",
      "Raw RESP Received: b':1\\r\\n'\n",
      "Decoded Response: ':1'\n",
      "\n",
      "--- Sending Command: HGET raw_hash name ---\n",
      "Raw RESP Sent: b'*3\\r\\n$4\\r\\nHGET\\r\\n$8\\r\\nraw_hash\\r\\n$4\\r\\nname\\r\\n'\n",
      "Raw RESP Received: b'$3\\r\\nBob\\r\\n'\n",
      "Decoded Response: '$3\n",
      "Bob'\n",
      "\n",
      "--- Sending Command: HGETALL raw_hash ---\n",
      "Raw RESP Sent: b'*2\\r\\n$7\\r\\nHGETALL\\r\\n$8\\r\\nraw_hash\\r\\n'\n",
      "Raw RESP Received: b'*4\\r\\n$4\\r\\nname\\r\\n$3\\r\\nBob\\r\\n$5\\r\\nemail\\r\\n$15\\r\\nbob@example.com\\r\\n'\n",
      "Decoded Response: '*4\n",
      "$4\n",
      "name\n",
      "$3\n",
      "Bob\n",
      "$5\n",
      "email\n",
      "$15\n",
      "bob@example.com'\n",
      "\n"
     ]
    }
   ],
   "source": [
    "# Test: HSET, HGET, HGETALL\n",
    "# HSET returns an Integer (fields added).\n",
    "# HGET returns a Bulk String.\n",
    "# HGETALL returns an Array of Bulk Strings.\n",
    "send_resp_command([\"HSET\", \"raw_hash\", \"name\", \"Bob\"])\n",
    "send_resp_command([\"HSET\", \"raw_hash\", \"email\", \"bob@example.com\"])\n",
    "send_resp_command([\"HGET\", \"raw_hash\", \"name\"])\n",
    "send_resp_command([\"HGETALL\", \"raw_hash\"])"
   ]
  },
  {
   "cell_type": "code",
   "execution_count": 12,
   "metadata": {},
   "outputs": [
    {
     "name": "stdout",
     "output_type": "stream",
     "text": [
      "--- Sending Command: SET str_type_key v ---\n",
      "Raw RESP Sent: b'*3\\r\\n$3\\r\\nSET\\r\\n$12\\r\\nstr_type_key\\r\\n$1\\r\\nv\\r\\n'\n",
      "Raw RESP Received: b'+OK\\r\\n'\n",
      "Decoded Response: '+OK'\n",
      "\n",
      "--- Sending Command: HSET hash_type_key f v ---\n",
      "Raw RESP Sent: b'*4\\r\\n$4\\r\\nHSET\\r\\n$13\\r\\nhash_type_key\\r\\n$1\\r\\nf\\r\\n$1\\r\\nv\\r\\n'\n",
      "Raw RESP Received: b':1\\r\\n'\n",
      "Decoded Response: ':1'\n",
      "\n",
      "--- Sending Command: TYPE str_type_key ---\n",
      "Raw RESP Sent: b'*2\\r\\n$4\\r\\nTYPE\\r\\n$12\\r\\nstr_type_key\\r\\n'\n",
      "Raw RESP Received: b'+string\\r\\n'\n",
      "Decoded Response: '+string'\n",
      "\n",
      "--- Sending Command: TYPE hash_type_key ---\n",
      "Raw RESP Sent: b'*2\\r\\n$4\\r\\nTYPE\\r\\n$13\\r\\nhash_type_key\\r\\n'\n",
      "Raw RESP Received: b'+hash\\r\\n'\n",
      "Decoded Response: '+hash'\n",
      "\n",
      "--- Sending Command: TYPE none_type_key ---\n",
      "Raw RESP Sent: b'*2\\r\\n$4\\r\\nTYPE\\r\\n$13\\r\\nnone_type_key\\r\\n'\n",
      "Raw RESP Received: b'+none\\r\\n'\n",
      "Decoded Response: '+none'\n",
      "\n"
     ]
    }
   ],
   "source": [
    "# Test: TYPE\n",
    "# Responds with a Simple String: +string, +hash, or +none\n",
    "send_resp_command([\"SET\", \"str_type_key\", \"v\"])\n",
    "send_resp_command([\"HSET\", \"hash_type_key\", \"f\", \"v\"])\n",
    "send_resp_command([\"TYPE\", \"str_type_key\"])\n",
    "send_resp_command([\"TYPE\", \"hash_type_key\"])\n",
    "send_resp_command([\"TYPE\", \"none_type_key\"])"
   ]
  },
  {
   "cell_type": "code",
   "execution_count": 13,
   "metadata": {},
   "outputs": [
    {
     "name": "stdout",
     "output_type": "stream",
     "text": [
      "--- Sending Command: SET getdel_raw_key this will disappear ---\n",
      "Raw RESP Sent: b'*3\\r\\n$3\\r\\nSET\\r\\n$14\\r\\ngetdel_raw_key\\r\\n$19\\r\\nthis will disappear\\r\\n'\n",
      "Raw RESP Received: b'+OK\\r\\n'\n",
      "Decoded Response: '+OK'\n",
      "\n",
      "--- Sending Command: GETDEL getdel_raw_key ---\n",
      "Raw RESP Sent: b'*2\\r\\n$6\\r\\nGETDEL\\r\\n$14\\r\\ngetdel_raw_key\\r\\n'\n",
      "Raw RESP Received: b'$19\\r\\nthis will disappear\\r\\n'\n",
      "Decoded Response: '$19\n",
      "this will disappear'\n",
      "\n",
      "--- Sending Command: EXISTS getdel_raw_key ---\n",
      "Raw RESP Sent: b'*2\\r\\n$6\\r\\nEXISTS\\r\\n$14\\r\\ngetdel_raw_key\\r\\n'\n",
      "Raw RESP Received: b':0\\r\\n'\n",
      "Decoded Response: ':0'\n",
      "\n"
     ]
    }
   ],
   "source": [
    "# Test: GETDEL\n",
    "# Responds with the Bulk String value of the key, or Null Bulk String.\n",
    "send_resp_command([\"SET\", \"getdel_raw_key\", \"this will disappear\"])\n",
    "send_resp_command([\"GETDEL\", \"getdel_raw_key\"])\n",
    "send_resp_command([\"EXISTS\", \"getdel_raw_key\"])"
   ]
  }
 ],
 "metadata": {
  "kernelspec": {
   "display_name": "Python 3 (ipykernel)",
   "language": "python",
   "name": "python3"
  },
  "language_info": {
   "codemirror_mode": {
    "name": "ipython",
    "version": 3
   },
   "file_extension": ".py",
   "mimetype": "text/x-python",
   "name": "python",
   "nbconvert_exporter": "python",
   "pygments_lexer": "ipython3",
   "version": "3.12.7"
  }
 },
 "nbformat": 4,
 "nbformat_minor": 4
}
