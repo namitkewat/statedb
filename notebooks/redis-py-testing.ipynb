{
 "cells": [
  {
   "cell_type": "markdown",
   "metadata": {},
   "source": [
    "# Testing a Custom Redis Server with `redis-py`\n",
    "\n",
    "This notebook provides an interactive way to test a custom, Redis-compatible server using the standard `redis-py` Python client.\n",
    "\n",
    "### Instructions:\n",
    "1. Make sure your custom Zig-based Redis server is running.\n",
    "2. Run the cells sequentially by pressing `Shift + Enter`.\n",
    "3. Observe the output of each cell to verify that your server responds correctly."
   ]
  },
  {
   "cell_type": "code",
   "execution_count": 1,
   "metadata": {},
   "outputs": [
    {
     "name": "stdout",
     "output_type": "stream",
     "text": [
      "Requirement already satisfied: redis in c:\\users\\namit\\miniconda3\\lib\\site-packages (6.2.0)\n"
     ]
    }
   ],
   "source": [
    "# Step 1: Install and import necessary libraries\n",
    "!pip install redis\n",
    "import redis\n",
    "import time"
   ]
  },
  {
   "cell_type": "code",
   "execution_count": 2,
   "metadata": {},
   "outputs": [],
   "source": [
    "# Step 2: Configure the connection to your server\n",
    "REDIS_HOST = \"localhost\"\n",
    "REDIS_PORT = 8080"
   ]
  },
  {
   "cell_type": "code",
   "execution_count": 3,
   "metadata": {},
   "outputs": [
    {
     "name": "stdout",
     "output_type": "stream",
     "text": [
      "Successfully connected to server: True\n"
     ]
    }
   ],
   "source": [
    "# Step 3: Create the client and test the connection\n",
    "try:\n",
    "    # decode_responses=True makes the client return Python strings instead of bytes.\n",
    "    r = redis.Redis(host=REDIS_HOST, port=REDIS_PORT, decode_responses=True)\n",
    "    \n",
    "    # The .ping() command is a great way to check if the connection is alive.\n",
    "    is_connected = r.ping()\n",
    "    print(f\"Successfully connected to server: {is_connected}\")\n",
    "except (redis.exceptions.ConnectionError, redis.exceptions.TimeoutError) as e:\n",
    "    print(f\"Failed to connect to {REDIS_HOST}:{REDIS_PORT}. Please ensure the server is running.\")\n",
    "    print(f\"Error: {e}\")"
   ]
  },
  {
   "cell_type": "markdown",
   "metadata": {},
   "source": [
    "--- \n",
    "## Command Tests\n",
    "Now we will run tests for each command."
   ]
  },
  {
   "cell_type": "code",
   "execution_count": 4,
   "metadata": {},
   "outputs": [
    {
     "name": "stdout",
     "output_type": "stream",
     "text": [
      "Running FLUSHDB to clear all keys...\n",
      "Database flushed successfully.\n"
     ]
    }
   ],
   "source": [
    "# Before starting, let's clear the database to ensure a clean state.\n",
    "print(\"Running FLUSHDB to clear all keys...\")\n",
    "try:\n",
    "    r.flushdb()\n",
    "    print(\"Database flushed successfully.\")\n",
    "except Exception as e:\n",
    "    print(f\"An error occurred: {e}\")"
   ]
  },
  {
   "cell_type": "code",
   "execution_count": 5,
   "metadata": {},
   "outputs": [
    {
     "name": "stdout",
     "output_type": "stream",
     "text": [
      "PING response: True\n"
     ]
    }
   ],
   "source": [
    "# Test: PING\n",
    "# Checks if the server is responsive.\n",
    "print(f\"PING response: {r.ping()}\")"
   ]
  },
  {
   "cell_type": "code",
   "execution_count": 6,
   "metadata": {},
   "outputs": [
    {
     "name": "stdout",
     "output_type": "stream",
     "text": [
      "Sent: 'Hello from Jupyter!'\n",
      "Received: 'Hello from Jupyter!'\n"
     ]
    }
   ],
   "source": [
    "# Test: ECHO\n",
    "# The server should return the exact string sent.\n",
    "message = \"Hello from Jupyter!\"\n",
    "response = r.echo(message)\n",
    "print(f\"Sent: '{message}'\")\n",
    "print(f\"Received: '{response}'\")"
   ]
  },
  {
   "cell_type": "code",
   "execution_count": 7,
   "metadata": {},
   "outputs": [
    {
     "name": "stdout",
     "output_type": "stream",
     "text": [
      "SET 'my_key' to 'my_value'. Server response: True\n",
      "GET 'my_key'. Server response: 'my_value'\n",
      "GET 'missing_key'. Server response: None (should be None)\n"
     ]
    }
   ],
   "source": [
    "# Test: SET and GET\n",
    "# Set a key to a value, then retrieve it.\n",
    "key, value = \"my_key\", \"my_value\"\n",
    "set_response = r.set(key, value)\n",
    "print(f\"SET '{key}' to '{value}'. Server response: {set_response}\")\n",
    "\n",
    "get_response = r.get(key)\n",
    "print(f\"GET '{key}'. Server response: '{get_response}'\")\n",
    "\n",
    "# Test getting a key that does not exist\n",
    "non_existent_key = \"missing_key\"\n",
    "get_none_response = r.get(non_existent_key)\n",
    "print(f\"GET '{non_existent_key}'. Server response: {get_none_response} (should be None)\")"
   ]
  },
  {
   "cell_type": "code",
   "execution_count": 8,
   "metadata": {},
   "outputs": [
    {
     "name": "stdout",
     "output_type": "stream",
     "text": [
      "Set key 'temp_key'.\n",
      "EXISTS 'temp_key'. Server response: 1 (1 means true)\n",
      "DEL 'temp_key'. Server response: 1 (1 means one key was deleted)\n",
      "EXISTS 'temp_key' again. Server response: 0 (0 means false)\n"
     ]
    }
   ],
   "source": [
    "# Test: EXISTS and DEL\n",
    "# Check if a key exists, then delete it.\n",
    "key_to_delete = \"temp_key\"\n",
    "r.set(key_to_delete, \"some value\")\n",
    "print(f\"Set key '{key_to_delete}'.\")\n",
    "\n",
    "exists_response = r.exists(key_to_delete)\n",
    "print(f\"EXISTS '{key_to_delete}'. Server response: {exists_response} (1 means true)\")\n",
    "\n",
    "del_response = r.delete(key_to_delete)\n",
    "print(f\"DEL '{key_to_delete}'. Server response: {del_response} (1 means one key was deleted)\")\n",
    "\n",
    "exists_after_del_response = r.exists(key_to_delete)\n",
    "print(f\"EXISTS '{key_to_delete}' again. Server response: {exists_after_del_response} (0 means false)\")"
   ]
  },
  {
   "cell_type": "code",
   "execution_count": 9,
   "metadata": {},
   "outputs": [
    {
     "name": "stdout",
     "output_type": "stream",
     "text": [
      "Set 'my_counter' to 10.\n",
      "INCR 'my_counter'. New value: 11\n",
      "DECR 'my_counter'. New value: 10\n",
      "INCRBY 'my_counter' by 5. New value: 15\n",
      "DECRBY 'my_counter' by 3. New value: 12\n"
     ]
    }
   ],
   "source": [
    "# Test: INCR, DECR, INCRBY, DECRBY\n",
    "# Atomic integer operations.\n",
    "counter_key = \"my_counter\"\n",
    "r.set(counter_key, 10)\n",
    "print(f\"Set '{counter_key}' to 10.\")\n",
    "\n",
    "incr_val = r.incr(counter_key)\n",
    "print(f\"INCR '{counter_key}'. New value: {incr_val}\")\n",
    "\n",
    "decr_val = r.decr(counter_key)\n",
    "print(f\"DECR '{counter_key}'. New value: {decr_val}\")\n",
    "\n",
    "incrby_val = r.incrby(counter_key, 5)\n",
    "print(f\"INCRBY '{counter_key}' by 5. New value: {incrby_val}\")\n",
    "\n",
    "decrby_val = r.decrby(counter_key, 3)\n",
    "print(f\"DECRBY '{counter_key}' by 3. New value: {decrby_val}\")"
   ]
  },
  {
   "cell_type": "code",
   "execution_count": 10,
   "metadata": {},
   "outputs": [
    {
     "name": "stdout",
     "output_type": "stream",
     "text": [
      "Working with hash key: 'user:101'\n",
      "HSET name=Bob. Fields added: 1\n",
      "HSET email=bob@example.com. Fields added: 1\n",
      "HGET name. Value: 'Bob'\n",
      "HGETALL. Value: {'name': 'Bob', 'email': 'bob@example.com'}\n"
     ]
    }
   ],
   "source": [
    "# Test: HSET, HGET, HGETALL\n",
    "# Hash operations for storing objects.\n",
    "hash_key = \"user:101\"\n",
    "print(f\"Working with hash key: '{hash_key}'\")\n",
    "\n",
    "hset_resp1 = r.hset(hash_key, \"name\", \"Bob\")\n",
    "print(f\"HSET name=Bob. Fields added: {hset_resp1}\")\n",
    "\n",
    "hset_resp2 = r.hset(hash_key, \"email\", \"bob@example.com\")\n",
    "print(f\"HSET email=bob@example.com. Fields added: {hset_resp2}\")\n",
    "\n",
    "hget_resp = r.hget(hash_key, \"name\")\n",
    "print(f\"HGET name. Value: '{hget_resp}'\")\n",
    "\n",
    "hgetall_resp = r.hgetall(hash_key)\n",
    "print(f\"HGETALL. Value: {hgetall_resp}\")"
   ]
  },
  {
   "cell_type": "code",
   "execution_count": 11,
   "metadata": {},
   "outputs": [
    {
     "name": "stdout",
     "output_type": "stream",
     "text": [
      "TYPE of 'a_string_key': string\n",
      "TYPE of 'a_hash_key': hash\n",
      "TYPE of 'a_none_key': none\n"
     ]
    }
   ],
   "source": [
    "# Test: TYPE\n",
    "# Checks the data type of a key.\n",
    "str_key = \"a_string_key\"\n",
    "hash_key = \"a_hash_key\"\n",
    "none_key = \"a_none_key\"\n",
    "\n",
    "r.set(str_key, \"hello\")\n",
    "r.hset(hash_key, \"f1\", \"v1\")\n",
    "\n",
    "print(f\"TYPE of '{str_key}': {r.type(str_key)}\")\n",
    "print(f\"TYPE of '{hash_key}': {r.type(hash_key)}\")\n",
    "print(f\"TYPE of '{none_key}': {r.type(none_key)}\")"
   ]
  },
  {
   "cell_type": "code",
   "execution_count": 12,
   "metadata": {},
   "outputs": [
    {
     "name": "stdout",
     "output_type": "stream",
     "text": [
      "Set 'key_to_getdel' to 'this will disappear'\n",
      "GETDEL 'key_to_getdel'. Value returned: 'this will disappear'\n",
      "EXISTS 'key_to_getdel' after GETDEL. Response: 0 (should be 0)\n"
     ]
    }
   ],
   "source": [
    "# Test: GETDEL\n",
    "# Atomically gets a key's value and then deletes the key.\n",
    "getdel_key = \"key_to_getdel\"\n",
    "r.set(getdel_key, \"this will disappear\")\n",
    "print(f\"Set '{getdel_key}' to 'this will disappear'\")\n",
    "\n",
    "# We must use execute_command because GETDEL is not a high-level function in redis-py\n",
    "getdel_val = r.execute_command(\"GETDEL\", getdel_key)\n",
    "print(f\"GETDEL '{getdel_key}'. Value returned: '{getdel_val}'\")\n",
    "\n",
    "exists_val = r.exists(getdel_key)\n",
    "print(f\"EXISTS '{getdel_key}' after GETDEL. Response: {exists_val} (should be 0)\")"
   ]
  }
 ],
 "metadata": {
  "kernelspec": {
   "display_name": "Python 3 (ipykernel)",
   "language": "python",
   "name": "python3"
  },
  "language_info": {
   "codemirror_mode": {
    "name": "ipython",
    "version": 3
   },
   "file_extension": ".py",
   "mimetype": "text/x-python",
   "name": "python",
   "nbconvert_exporter": "python",
   "pygments_lexer": "ipython3",
   "version": "3.12.7"
  }
 },
 "nbformat": 4,
 "nbformat_minor": 4
}
